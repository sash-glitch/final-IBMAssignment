{
 "cells": [
  {
   "cell_type": "markdown",
   "id": "4621fa78-c335-4f23-b694-251791c2402e",
   "metadata": {},
   "source": [
    "# Data Science Tools and Ecosystem\n"
   ]
  },
  {
   "cell_type": "markdown",
   "id": "1ee0a064-3d8e-4e2f-92d9-96e02094cde6",
   "metadata": {},
   "source": [
    "In this notebook, Data Science Tools and Ecosystem are summarized."
   ]
  },
  {
   "cell_type": "markdown",
   "id": "388ca5d1-283e-4355-b5bc-c397d1f507d1",
   "metadata": {},
   "source": [
    "**Objectives:**\n",
    "\n",
    "* List popular languages for Data Science\n",
    "* List commonly used libraries by Data Scientists\n",
    "* List commonly used Data Science Tools\n",
    "* Evaluate arithmetic expressions in Python"
   ]
  },
  {
   "cell_type": "markdown",
   "id": "c577c82c-7650-4665-8c46-ed90d6260e0b",
   "metadata": {},
   "source": [
    "Some of the popular languages that Data Scientists use are:\n",
    "1. Python\n",
    "2. SQL\n",
    "3. Julia\n",
    "4. R\n",
    "5. Scala\n"
   ]
  },
  {
   "cell_type": "markdown",
   "id": "d3b22f66-0773-4fab-b5eb-4c3ec4939d2a",
   "metadata": {},
   "source": [
    "Some of the commonly used libraries used by Data Scientists include:\n",
    "1. Numpy\n",
    "2. Pandas\n",
    "3. Matplotlib\n",
    "4. Seaborn\n",
    "5. Tensorflow\n"
   ]
  },
  {
   "cell_type": "markdown",
   "id": "722ba467-58fc-4374-973d-130bfa1faac1",
   "metadata": {},
   "source": [
    "| Data Science Tools |\r\n",
    "|------------------|\r\n",
    "| Jupyter Notebook |\r\n",
    "| RStudio          |\r\n",
    "| Google Colab     |"
   ]
  },
  {
   "cell_type": "markdown",
   "id": "87296dfd-ff46-49da-b394-8dd1e5a12a75",
   "metadata": {},
   "source": [
    "### Below are a few examples of evaluating arithmetic expressions in Python"
   ]
  },
  {
   "cell_type": "code",
   "execution_count": 2,
   "id": "51e2dae6-cb61-4df8-8bf6-6c91fbf85070",
   "metadata": {},
   "outputs": [
    {
     "data": {
      "text/plain": [
       "17.0"
      ]
     },
     "execution_count": 2,
     "metadata": {},
     "output_type": "execute_result"
    }
   ],
   "source": [
    "# This a simple arithmetic expression to mutiply then add integers.\n",
    "(3*4)+5."
   ]
  },
  {
   "cell_type": "code",
   "execution_count": 5,
   "id": "4b609a6d-acb6-4fae-8035-3a52afe9c6a4",
   "metadata": {},
   "outputs": [
    {
     "name": "stdout",
     "output_type": "stream",
     "text": [
      "3.3333333333333335 hours\n"
     ]
    }
   ],
   "source": [
    " #This will convert 200 minutes to hours by diving by 60\n",
    "hours = 200/60\n",
    "print(hours,\"hours\")"
   ]
  },
  {
   "cell_type": "markdown",
   "id": "ea247880-6090-41a9-9ecf-9dc5e5d2e991",
   "metadata": {},
   "source": [
    "## Author\n",
    "Margaret Sasha Otieno"
   ]
  },
  {
   "cell_type": "code",
   "execution_count": null,
   "id": "c494e820-1d9d-492c-8972-c41f5f3cbe6a",
   "metadata": {},
   "outputs": [],
   "source": []
  }
 ],
 "metadata": {
  "kernelspec": {
   "display_name": "Python 3 (ipykernel)",
   "language": "python",
   "name": "python3"
  },
  "language_info": {
   "codemirror_mode": {
    "name": "ipython",
    "version": 3
   },
   "file_extension": ".py",
   "mimetype": "text/x-python",
   "name": "python",
   "nbconvert_exporter": "python",
   "pygments_lexer": "ipython3",
   "version": "3.11.7"
  }
 },
 "nbformat": 4,
 "nbformat_minor": 5
}
